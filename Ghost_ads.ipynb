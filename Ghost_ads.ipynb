{
 "cells": [
  {
   "cell_type": "markdown",
   "metadata": {},
   "source": [
    "# Ghost Ads\n",
    "In this exercise we are going to study the difference between the two methods of Random Controlled Trials on advertising effectiveness: \n",
    "Please read this first: https://www.thinkwithgoogle.com/intl/en-gb/marketing-resources/data-measurement/a-revolution-in-measuring-ad-effectiveness/\n",
    "\n",
    "More specifically, we will study whether the claim about the 'ghost ad' method having a much higher power than the 'intend to treat' method, as said by Lewis in this video: https://www.youtube.com/watch?v=_do6ACKKlnw\n",
    "He claims this is especially true when only targeting a small subgroup of the total population."
   ]
  },
  {
   "cell_type": "markdown",
   "metadata": {},
   "source": [
    "### Don't forget to select your venv interpreter!\n",
    "Install all the packages in the first cell"
   ]
  },
  {
   "cell_type": "code",
   "execution_count": 1,
   "metadata": {},
   "outputs": [
    {
     "name": "stdout",
     "output_type": "stream",
     "text": [
      "Requirement already satisfied: numpy in /home/rubenmak/PycharmProjects/datasciencemaster___ghost_ads___shared/venv/ghost_ads/lib/python3.6/site-packages\n",
      "Requirement already satisfied: matplotlib in /home/rubenmak/PycharmProjects/datasciencemaster___ghost_ads___shared/venv/ghost_ads/lib/python3.6/site-packages\n",
      "Requirement already satisfied: kiwisolver>=1.0.1 in /home/rubenmak/PycharmProjects/datasciencemaster___ghost_ads___shared/venv/ghost_ads/lib/python3.6/site-packages (from matplotlib)\n",
      "Requirement already satisfied: cycler>=0.10 in /home/rubenmak/PycharmProjects/datasciencemaster___ghost_ads___shared/venv/ghost_ads/lib/python3.6/site-packages (from matplotlib)\n",
      "Requirement already satisfied: pyparsing!=2.0.4,!=2.1.2,!=2.1.6,>=2.0.1 in /home/rubenmak/PycharmProjects/datasciencemaster___ghost_ads___shared/venv/ghost_ads/lib/python3.6/site-packages (from matplotlib)\n",
      "Requirement already satisfied: python-dateutil>=2.1 in /home/rubenmak/PycharmProjects/datasciencemaster___ghost_ads___shared/venv/ghost_ads/lib/python3.6/site-packages (from matplotlib)\n",
      "Requirement already satisfied: numpy>=1.10.0 in /home/rubenmak/PycharmProjects/datasciencemaster___ghost_ads___shared/venv/ghost_ads/lib/python3.6/site-packages (from matplotlib)\n",
      "Requirement already satisfied: setuptools in /home/rubenmak/PycharmProjects/datasciencemaster___ghost_ads___shared/venv/ghost_ads/lib/python3.6/site-packages (from kiwisolver>=1.0.1->matplotlib)\n",
      "Requirement already satisfied: six in /home/rubenmak/PycharmProjects/datasciencemaster___ghost_ads___shared/venv/ghost_ads/lib/python3.6/site-packages (from cycler>=0.10->matplotlib)\n",
      "Requirement already satisfied: pandas in /home/rubenmak/PycharmProjects/datasciencemaster___ghost_ads___shared/venv/ghost_ads/lib/python3.6/site-packages\n",
      "Requirement already satisfied: numpy>=1.12.0 in /home/rubenmak/PycharmProjects/datasciencemaster___ghost_ads___shared/venv/ghost_ads/lib/python3.6/site-packages (from pandas)\n",
      "Requirement already satisfied: python-dateutil>=2.5.0 in /home/rubenmak/PycharmProjects/datasciencemaster___ghost_ads___shared/venv/ghost_ads/lib/python3.6/site-packages (from pandas)\n",
      "Requirement already satisfied: pytz>=2011k in /home/rubenmak/PycharmProjects/datasciencemaster___ghost_ads___shared/venv/ghost_ads/lib/python3.6/site-packages (from pandas)\n",
      "Requirement already satisfied: six>=1.5 in /home/rubenmak/PycharmProjects/datasciencemaster___ghost_ads___shared/venv/ghost_ads/lib/python3.6/site-packages (from python-dateutil>=2.5.0->pandas)\n",
      "Requirement already satisfied: scipy in /home/rubenmak/PycharmProjects/datasciencemaster___ghost_ads___shared/venv/ghost_ads/lib/python3.6/site-packages\n",
      "Requirement already satisfied: numpy>=1.8.2 in /home/rubenmak/PycharmProjects/datasciencemaster___ghost_ads___shared/venv/ghost_ads/lib/python3.6/site-packages (from scipy)\n"
     ]
    }
   ],
   "source": [
    "import sys\n",
    "!{sys.executable} -m pip install numpy\n",
    "!{sys.executable} -m pip install matplotlib\n",
    "!{sys.executable} -m pip install pandas\n",
    "!{sys.executable} -m pip install scipy"
   ]
  },
  {
   "cell_type": "code",
   "execution_count": 2,
   "metadata": {},
   "outputs": [],
   "source": [
    "from IPython.display import Latex, Image\n",
    "import numpy as np\n",
    "import pandas as pd\n",
    "import matplotlib.pyplot as plt\n",
    "from scipy.stats import bernoulli, norm"
   ]
  },
  {
   "cell_type": "markdown",
   "metadata": {},
   "source": [
    "## Creating the data set\n",
    "The population has two types of people, buyers and non-buyers. In the Ghost ads example the buyers would be the 'striped T-shirt people' who are the only ones interested in the advertised product. Non-buyers have zero probability of buying your product, whether they were exposed to your ad or not. The buyers (striped T-shirts) have a probability of buying when not exposed to ads (take for example 0.2) and a sligthly higher probability when they are exposed to ads (take for example 0.3). Also, the bidding algorithm doesn't always correctly identify a buyer (as can be seen in the picture below), so add a probability of misclassification (for example 0.1).\n",
    "![True Population](GhostAds_1._Ideal_experiment_FINAL_v2.png)"
   ]
  },
  {
   "cell_type": "code",
   "execution_count": 3,
   "metadata": {},
   "outputs": [],
   "source": [
    "def misclassify(is_buyer, p_misclassified):\n",
    "    if is_buyer == 1:\n",
    "        x = bernoulli.rvs(p=1-p_misclassified)\n",
    "    else:\n",
    "        x = bernoulli.rvs(p=p_misclassified)\n",
    "    return x\n",
    "\n",
    "def conversion(is_buyer, is_predicted_buyer, is_treatment,\n",
    "              p_conversion_buyer_exposed, p_conversion_buyer_non_exposed,\n",
    "              p_conversion_non_buyer):\n",
    "    if is_buyer == 1 and is_predicted_buyer == 1 and is_treatment == 1:\n",
    "        x = bernoulli.rvs(p=p_conversion_buyer_exposed)\n",
    "    elif is_buyer == 1:\n",
    "        x = bernoulli.rvs(p=p_conversion_buyer_non_exposed)\n",
    "    else:\n",
    "        x = bernoulli.rvs(p=p_conversion_non_buyer)\n",
    "    return x\n",
    "\n",
    "misclassify = np.vectorize(misclassify)\n",
    "conversion = np.vectorize(conversion)\n",
    "\n",
    "def create_data(p_conversion_buyer_non_exposed = 0.2, \n",
    "                p_conversion_buyer_exposed = 0.3, \n",
    "                p_conversion_non_buyer = 0,\n",
    "                p_is_buyer = 0.5,\n",
    "                p_treatment = 0.5,\n",
    "                p_misclassified = 0.1, \n",
    "                n = 1000):\n",
    "    x_buyers = bernoulli.rvs(size=n, p=p_is_buyer)\n",
    "    x_predicted_buyers = misclassify(x_buyers, p_misclassified)\n",
    "    x_treatment = bernoulli.rvs(size=n, p=p_treatment)\n",
    "    conversions = conversion(x_buyers, x_predicted_buyers, x_treatment,\n",
    "                              p_conversion_buyer_exposed, p_conversion_buyer_non_exposed,\n",
    "                              p_conversion_non_buyer)\n",
    "    return pd.DataFrame({'conversions':conversions,\n",
    "                        'buyers': x_buyers,\n",
    "                        'predicted_buyers': x_predicted_buyers,\n",
    "                        'treatment': x_treatment})"
   ]
  },
  {
   "cell_type": "code",
   "execution_count": 4,
   "metadata": {},
   "outputs": [
    {
     "name": "stdout",
     "output_type": "stream",
     "text": [
      "       conversions       buyers  predicted_buyers    treatment\n",
      "count  1000.000000  1000.000000       1000.000000  1000.000000\n",
      "mean      0.125000     0.504000          0.503000     0.491000\n",
      "std       0.330884     0.500234          0.500241     0.500169\n",
      "min       0.000000     0.000000          0.000000     0.000000\n",
      "25%       0.000000     0.000000          0.000000     0.000000\n",
      "50%       0.000000     1.000000          1.000000     0.000000\n",
      "75%       0.000000     1.000000          1.000000     1.000000\n",
      "max       1.000000     1.000000          1.000000     1.000000\n"
     ]
    }
   ],
   "source": [
    "data = create_data()\n",
    "print(data.describe())"
   ]
  },
  {
   "cell_type": "markdown",
   "metadata": {},
   "source": [
    "## Create a function to perform the t-test"
   ]
  },
  {
   "cell_type": "code",
   "execution_count": 5,
   "metadata": {},
   "outputs": [],
   "source": [
    "def run_t_test(users_a, users_b, converted_a, converted_b):\n",
    "    p_a_hat = converted_a / users_a\n",
    "    p_b_hat = converted_b / users_b\n",
    "    var_p_a_hat = p_a_hat * (1-p_a_hat)\n",
    "    var_p_b_hat = p_b_hat * (1-p_b_hat)\n",
    "    t_stat = (p_b_hat - p_a_hat) / np.power((var_p_a_hat/users_a + var_p_b_hat/users_b), 0.5)\n",
    "    p_val = norm.cdf(t_stat)\n",
    "    return p_val"
   ]
  },
  {
   "cell_type": "markdown",
   "metadata": {},
   "source": [
    "## Intend-to-treat\n",
    "Intend to treat splits the population in control and treatment, before anything else. The conversions of the control and treatment group are then compared an tested for significant results.\n",
    "![Intend to Treat](GhostAds_3._Intend_to_treat_FINAL_v2.png)"
   ]
  },
  {
   "cell_type": "markdown",
   "metadata": {},
   "source": [
    "## Create a function that generates the results of the intend to treat method based on the created data set. The result should be similar to this:"
   ]
  },
  {
   "cell_type": "markdown",
   "metadata": {},
   "source": [
    "|   \t|count|sum|   \t|   \t|\n",
    "|---\t|---\t|---\t|---\t|---\t|\n",
    "|treatment   \t|   \t|   \t|   \t|   \t|\n",
    "|0   \t|533|53|   \t|   \t|\n",
    "|1   \t|467|68|   \t|   \t|"
   ]
  },
  {
   "cell_type": "code",
   "execution_count": 6,
   "metadata": {},
   "outputs": [
    {
     "name": "stdout",
     "output_type": "stream",
     "text": [
      "           count  sum\n",
      "treatment            \n",
      "0            506   53\n",
      "1            494   84\n"
     ]
    }
   ],
   "source": [
    "def create_intend_to_treat_data(p_conversion_buyer_non_exposed = 0.2, \n",
    "                p_conversion_buyer_exposed = 0.3, \n",
    "                p_conversion_non_buyer = 0,\n",
    "                p_is_buyer = 0.5,\n",
    "                p_treatment = 0.5,\n",
    "                p_misclassified = 0.1, \n",
    "                n = 1000):\n",
    "    data = create_data(p_conversion_buyer_non_exposed, \n",
    "                    p_conversion_buyer_exposed, \n",
    "                    p_conversion_non_buyer,\n",
    "                    p_is_buyer,\n",
    "                    p_treatment,\n",
    "                    p_misclassified, \n",
    "                    n)\n",
    "    return data.groupby(['treatment'])['conversions'].agg(['count', 'sum'])\n",
    "\n",
    "print(create_intend_to_treat_data())"
   ]
  },
  {
   "cell_type": "markdown",
   "metadata": {},
   "source": [
    "## Ghost ads\n",
    "With ghost ads, you actually do know who would have been exposed. So in the picture below, comparing the two green groups instead of the total treatment and control groups. The idea is that the power is much stronger with this method, so let's research this.\n",
    "![True Population](GhostAds_1._Ideal_experiment_FINAL_v2.png)"
   ]
  },
  {
   "cell_type": "markdown",
   "metadata": {},
   "source": [
    "## Create a function that generates the results of the ghst ads method based on the created data set. The result should be similar to this:"
   ]
  },
  {
   "cell_type": "markdown",
   "metadata": {},
   "source": [
    "|   \t|count|sum|   \t|   \t|\n",
    "|---\t|---\t|---\t|---\t|---\t|\n",
    "|treatment   \t|   \t|   \t|   \t|   \t|\n",
    "|0   \t|231|43|   \t|   \t|\n",
    "|1   \t|244|68|   \t|   \t|"
   ]
  },
  {
   "cell_type": "code",
   "execution_count": 7,
   "metadata": {},
   "outputs": [
    {
     "name": "stdout",
     "output_type": "stream",
     "text": [
      "           count  sum\n",
      "treatment            \n",
      "0            239   53\n",
      "1            243   57\n"
     ]
    }
   ],
   "source": [
    "def create_ghost_ads_data(p_conversion_buyer_non_exposed = 0.2, \n",
    "                p_conversion_buyer_exposed = 0.3, \n",
    "                p_conversion_non_buyer = 0,\n",
    "                p_is_buyer = 0.5,\n",
    "                p_treatment = 0.5,\n",
    "                p_misclassified = 0.1, \n",
    "                n = 1000):\n",
    "    data = create_data(p_conversion_buyer_non_exposed, \n",
    "                    p_conversion_buyer_exposed, \n",
    "                    p_conversion_non_buyer,\n",
    "                    p_is_buyer,\n",
    "                    p_treatment,\n",
    "                    p_misclassified, \n",
    "                    n)\n",
    "    return data[data['predicted_buyers'] == 1].groupby(['treatment'])['conversions'].agg(['count', 'sum'])\n",
    "\n",
    "print(create_ghost_ads_data())"
   ]
  },
  {
   "cell_type": "markdown",
   "metadata": {},
   "source": [
    "## Run the analysis\n",
    "Now you have everything ready to start analysis. Run simulations with different methods and calculate the power of both tests.\n",
    "* Try for different sample sizes $N$\n",
    "* Try for different size of 'buyer' groups by changing p_is_buyer\n",
    "* Try for different rates of misclassification p_misclassified"
   ]
  },
  {
   "cell_type": "code",
   "execution_count": 9,
   "metadata": {},
   "outputs": [
    {
     "name": "stdout",
     "output_type": "stream",
     "text": [
      "0.6525\n",
      "0.5775\n",
      "0.835\n",
      "0.7625\n",
      "0.9175\n",
      "0.8825\n",
      "0.97\n",
      "0.9325\n"
     ]
    },
    {
     "data": {
      "image/png": "[encoded data removed]",
      "text/plain": [
       "<Figure size 432x288 with 1 Axes>"
      ]
     },
     "metadata": {
      "needs_background": "light"
     },
     "output_type": "display_data"
    }
   ],
   "source": [
    "SIMULATIONS = 400\n",
    "p_is_buyer = 0.5\n",
    "p_misclassified = 0.1\n",
    "alpha = 0.05\n",
    "\n",
    "Ns = [1000, 1500, 2000, 2500]\n",
    "\n",
    "\n",
    "ghost_ad_effects = []\n",
    "ghost_ad_conversion_effects = []\n",
    "ghost_ad_powers = []\n",
    "\n",
    "intend_to_treat_effects = []\n",
    "intend_to_treat_conversion_effects = []\n",
    "intend_to_treat_powers = []\n",
    "\n",
    "def run_simulations_for_n(N):\n",
    "    \n",
    "    # collect ghost ad results\n",
    "    test_results = []\n",
    "    treatment_effects = []\n",
    "\n",
    "    for i in range(SIMULATIONS):\n",
    "        data = create_ghost_ads_data(n=N, p_is_buyer=p_is_buyer, p_misclassified=p_misclassified)\n",
    "        treatment_effects += [data.loc[1, 'sum']/data.loc[1, 'count'] - \\\n",
    "                                data.loc[0, 'sum']/data.loc[0, 'count']]\n",
    "        test_results += [run_t_test(data.loc[0, 'count'], data.loc[1, 'count'],\n",
    "                        data.loc[0, 'sum'], data.loc[1, 'sum'])]\n",
    "\n",
    "    ghost_ad_effect = np.array(treatment_effects).mean()\n",
    "    ghost_ad_conversion_effect = np.array(treatment_effects).mean() * p_is_buyer * N\n",
    "    ghost_ad_power = np.mean(np.array(test_results)>(1-alpha/2))\n",
    "    \n",
    "    \n",
    "    # collect intend to treat results\n",
    "    test_results = []\n",
    "    treatment_effects = []\n",
    "    \n",
    "    for i in range(SIMULATIONS):\n",
    "        data = create_intend_to_treat_data(n=N, p_is_buyer=p_is_buyer, p_misclassified=p_misclassified)\n",
    "        treatment_effects += [data.loc[1, 'sum']/data.loc[1, 'count'] - \\\n",
    "                                data.loc[0, 'sum']/data.loc[0, 'count']]\n",
    "        test_results += [run_t_test(data.loc[0, 'count'], data.loc[1, 'count'],\n",
    "                        data.loc[0, 'sum'], data.loc[1, 'sum'])]\n",
    "    \n",
    "    intend_to_treat_effect = np.array(treatment_effects).mean()\n",
    "    intend_to_treat_conversion_effect = np.array(treatment_effects).mean() * N\n",
    "    intend_to_treat_power = np.mean(np.array(test_results)>(1-alpha/2))\n",
    "    \n",
    "    return ghost_ad_effect, ghost_ad_conversion_effect, ghost_ad_power, \\\n",
    "            intend_to_treat_effect, intend_to_treat_conversion_effect, intend_to_treat_power\n",
    "    \n",
    "for N in Ns:\n",
    "    ghost_ad_effect, ghost_ad_conversion_effect, ghost_ad_power, \\\n",
    "            intend_to_treat_effect, intend_to_treat_conversion_effect, intend_to_treat_power \\\n",
    "        = run_simulations_for_n(N)\n",
    "    \n",
    "    print(ghost_ad_power)\n",
    "    print(intend_to_treat_power)\n",
    "    \n",
    "    ghost_ad_effects += [ghost_ad_effect]\n",
    "    ghost_ad_conversion_effects += [ghost_ad_conversion_effect]\n",
    "    ghost_ad_powers += [ghost_ad_power]\n",
    "\n",
    "    intend_to_treat_effects += [intend_to_treat_effect]\n",
    "    intend_to_treat_conversion_effects += [intend_to_treat_conversion_effect]\n",
    "    intend_to_treat_powers += [intend_to_treat_power]\n",
    "    \n",
    "plt.plot(ghost_ad_powers, Ns)\n",
    "plt.plot(intend_to_treat_powers, Ns)\n",
    "plt.show()"
   ]
  },
  {
   "cell_type": "code",
   "execution_count": 24,
   "metadata": {},
   "outputs": [
    {
     "name": "stdout",
     "output_type": "stream",
     "text": [
      "0.695\n",
      "0.6\n",
      "0.7925\n",
      "0.72\n",
      "0.8425\n",
      "0.74\n",
      "0.89\n",
      "0.8\n",
      "0.93\n",
      "0.86\n",
      "0.95\n",
      "0.915\n",
      "0.9625\n",
      "0.9\n"
     ]
    },
    {
     "data": {
      "image/png": "[encoded data removed]",
      "text/plain": [
       "<Figure size 432x288 with 1 Axes>"
      ]
     },
     "metadata": {
      "needs_background": "light"
     },
     "output_type": "display_data"
    }
   ],
   "source": [
    "SIMULATIONS = 400\n",
    "p_is_buyer = 0.05\n",
    "p_misclassified = 0.01\n",
    "alpha = 0.05\n",
    "\n",
    "Ns = [10000, 12000, 14000, 16000, 18000, 20000, 22000]\n",
    "\n",
    "\n",
    "ghost_ad_effects = []\n",
    "ghost_ad_conversion_effects = []\n",
    "ghost_ad_powers = []\n",
    "\n",
    "intend_to_treat_effects = []\n",
    "intend_to_treat_conversion_effects = []\n",
    "intend_to_treat_powers = []\n",
    "\n",
    "def run_simulations_for_n(N):\n",
    "    \n",
    "    # collect ghost ad results\n",
    "    test_results = []\n",
    "    treatment_effects = []\n",
    "\n",
    "    for i in range(SIMULATIONS):\n",
    "        data = create_ghost_ads_data(n=N, p_is_buyer=p_is_buyer, p_misclassified=p_misclassified)\n",
    "        treatment_effects += [data.loc[1, 'sum']/data.loc[1, 'count'] - \\\n",
    "                                data.loc[0, 'sum']/data.loc[0, 'count']]\n",
    "        test_results += [run_t_test(data.loc[0, 'count'], data.loc[1, 'count'],\n",
    "                        data.loc[0, 'sum'], data.loc[1, 'sum'])]\n",
    "\n",
    "    ghost_ad_effect = np.array(treatment_effects).mean()\n",
    "    ghost_ad_conversion_effect = np.array(treatment_effects).mean() * p_is_buyer * N\n",
    "    ghost_ad_power = np.mean(np.array(test_results)>(1-alpha/2))\n",
    "    \n",
    "    \n",
    "    # collect intend to treat results\n",
    "    test_results = []\n",
    "    treatment_effects = []\n",
    "    \n",
    "    for i in range(SIMULATIONS):\n",
    "        data = create_intend_to_treat_data(n=N, p_is_buyer=p_is_buyer, p_misclassified=p_misclassified)\n",
    "        treatment_effects += [data.loc[1, 'sum']/data.loc[1, 'count'] - \\\n",
    "                                data.loc[0, 'sum']/data.loc[0, 'count']]\n",
    "        test_results += [run_t_test(data.loc[0, 'count'], data.loc[1, 'count'],\n",
    "                        data.loc[0, 'sum'], data.loc[1, 'sum'])]\n",
    "    \n",
    "    intend_to_treat_effect = np.array(treatment_effects).mean()\n",
    "    intend_to_treat_conversion_effect = np.array(treatment_effects).mean() * N\n",
    "    intend_to_treat_power = np.mean(np.array(test_results)>(1-alpha/2))\n",
    "    \n",
    "    return ghost_ad_effect, ghost_ad_conversion_effect, ghost_ad_power, \\\n",
    "            intend_to_treat_effect, intend_to_treat_conversion_effect, intend_to_treat_power\n",
    "    \n",
    "for N in Ns:\n",
    "    ghost_ad_effect, ghost_ad_conversion_effect, ghost_ad_power, \\\n",
    "            intend_to_treat_effect, intend_to_treat_conversion_effect, intend_to_treat_power \\\n",
    "        = run_simulations_for_n(N)\n",
    "    \n",
    "    print(ghost_ad_power)\n",
    "    print(intend_to_treat_power)\n",
    "    \n",
    "    ghost_ad_effects += [ghost_ad_effect]\n",
    "    ghost_ad_conversion_effects += [ghost_ad_conversion_effect]\n",
    "    ghost_ad_powers += [ghost_ad_power]\n",
    "\n",
    "    intend_to_treat_effects += [intend_to_treat_effect]\n",
    "    intend_to_treat_conversion_effects += [intend_to_treat_conversion_effect]\n",
    "    intend_to_treat_powers += [intend_to_treat_power]\n",
    "    \n",
    "plt.plot(ghost_ad_powers, Ns)\n",
    "plt.plot(intend_to_treat_powers, Ns)\n",
    "plt.show()"
   ]
  },
  {
   "cell_type": "code",
   "execution_count": 19,
   "metadata": {},
   "outputs": [
    {
     "data": {
      "image/png": "[encoded data removed]",
      "text/plain": [
       "<Figure size 432x288 with 1 Axes>"
      ]
     },
     "metadata": {
      "needs_background": "light"
     },
     "output_type": "display_data"
    }
   ],
   "source": [
    "plt.plot(ghost_ad_powers, Ns)\n",
    "plt.plot(intend_to_treat_powers, Ns)\n",
    "plt.show()"
   ]
  },
  {
   "cell_type": "code",
   "execution_count": 11,
   "metadata": {},
   "outputs": [
    {
     "name": "stdout",
     "output_type": "stream",
     "text": [
      "[0.08914895694176113, 0.08940755483964642, 0.0892709077645687, 0.09060407358525588]\n",
      "[0.043499447305951504, 0.04439625355063532, 0.045926021167931534, 0.0443711818568541]\n",
      "[44.574478470880564, 67.05566612973482, 89.27090776456869, 113.25509198156985]\n",
      "[43.499447305951506, 66.59438032595298, 91.85204233586308, 110.92795464213525]\n"
     ]
    }
   ],
   "source": [
    "print(ghost_ad_effects)\n",
    "print(intend_to_treat_effects)\n",
    "print(ghost_ad_conversion_effects)\n",
    "print(intend_to_treat_conversion_effects)"
   ]
  },
  {
   "cell_type": "markdown",
   "metadata": {},
   "source": [
    "## Use post hoc power calculation method"
   ]
  },
  {
   "cell_type": "code",
   "execution_count": 2,
   "metadata": {},
   "outputs": [
    {
     "name": "stdout",
     "output_type": "stream",
     "text": [
      "1.959963984540054\n"
     ]
    }
   ],
   "source": [
    "print(norm.ppf(1-0.05/2))"
   ]
  },
  {
   "cell_type": "code",
   "execution_count": 9,
   "metadata": {},
   "outputs": [],
   "source": [
    "def run_t_test_with_power(users_a, users_b, converted_a, converted_b, alpha):\n",
    "    p_a_hat = converted_a / users_a\n",
    "    p_b_hat = converted_b / users_b\n",
    "    var_p_a_hat = p_a_hat * (1-p_a_hat)\n",
    "    var_p_b_hat = p_b_hat * (1-p_b_hat)\n",
    "    diff = p_b_hat - p_a_hat\n",
    "    diff_std_rerror = np.power((var_p_a_hat/users_a + var_p_b_hat/users_b), 0.5)\n",
    "    t_stat = diff / diff_std_rerror\n",
    "    p_val = norm.cdf(t_stat)\n",
    "    sign_bound = norm.ppf(1-alpha/2) * diff_std_rerror\n",
    "    power = 1 - norm.cdf(sign_bound, loc=diff, scale=diff_std_rerror)\n",
    "    return p_val, power\n",
    "\n",
    "def create_data_all_data(p_conversion_buyer_non_exposed = 0.2, \n",
    "                p_conversion_buyer_exposed = 0.3, \n",
    "                p_conversion_non_buyer = 0,\n",
    "                p_is_buyer = 0.5,\n",
    "                p_treatment = 0.5,\n",
    "                p_misclassified = 0.1, \n",
    "                n = 1000):\n",
    "    data = create_data(p_conversion_buyer_non_exposed, \n",
    "                    p_conversion_buyer_exposed, \n",
    "                    p_conversion_non_buyer,\n",
    "                    p_is_buyer,\n",
    "                    p_treatment,\n",
    "                    p_misclassified, \n",
    "                    n)\n",
    "    intend_to_treat_data = data.groupby(['treatment'])['conversions'].agg(['count', 'sum'])\n",
    "    ghost_ad_data = data[data['predicted_buyers'] == 1].groupby(['treatment'])['conversions'].agg(['count', 'sum'])\n",
    "    \n",
    "    return intend_to_treat_data, ghost_ad_data"
   ]
  },
  {
   "cell_type": "code",
   "execution_count": 48,
   "metadata": {},
   "outputs": [
    {
     "name": "stdout",
     "output_type": "stream",
     "text": [
      "0.6397569892640597\n",
      "0.5696138217080168\n",
      "0.7645924319324103\n",
      "0.6965317370039509\n",
      "0.8512328612749422\n",
      "0.7849253598914919\n",
      "0.9148753051740883\n",
      "0.8640301919824708\n"
     ]
    },
    {
     "data": {
      "image/png": "[encoded data removed]",
      "text/plain": [
       "<Figure size 432x288 with 1 Axes>"
      ]
     },
     "metadata": {
      "needs_background": "light"
     },
     "output_type": "display_data"
    }
   ],
   "source": [
    "SIMULATIONS = 400\n",
    "p_is_buyer = 0.5\n",
    "p_misclassified = 0.1\n",
    "alpha = 0.05\n",
    "\n",
    "Ns = [1000, 1500, 2000, 2500]\n",
    "\n",
    "# SIMULATIONS = 400\n",
    "# p_is_buyer = 0.05\n",
    "# p_misclassified = 0.01\n",
    "# alpha = 0.05\n",
    "\n",
    "# Ns = [10000, 12000, 14000, 16000, 18000, 20000, 22000]\n",
    "\n",
    "\n",
    "ghost_ad_effects = []\n",
    "ghost_ad_conversion_effects = []\n",
    "ghost_ad_powers = []\n",
    "\n",
    "intend_to_treat_effects = []\n",
    "intend_to_treat_conversion_effects = []\n",
    "intend_to_treat_powers = []\n",
    "\n",
    "def run_simulations_for_n(N, SIMULATIONS):\n",
    "    \n",
    "    ghost_ad_treatment_effects = []\n",
    "    ghost_ad_powers = []\n",
    "    intend_to_treat_treatment_effects = []\n",
    "    intend_to_treat_powers = []\n",
    "    \n",
    "    for i in range(SIMULATIONS):\n",
    "        intend_to_treat_data, ghost_ad_data = create_data_all_data(n=N, p_is_buyer=p_is_buyer, \n",
    "                                                          p_misclassified=p_misclassified)\n",
    "        data = ghost_ad_data\n",
    "        ghost_ad_treatment_effect = data.loc[1, 'sum']/data.loc[1, 'count'] - \\\n",
    "                                data.loc[0, 'sum']/data.loc[0, 'count']\n",
    "        test_result, ghost_ad_power = run_t_test_with_power(data.loc[0, 'count'], data.loc[1, 'count'],\n",
    "                        data.loc[0, 'sum'], data.loc[1, 'sum'], alpha)\n",
    "\n",
    "        data = intend_to_treat_data\n",
    "        intend_to_treat_treatment_effect = data.loc[1, 'sum']/data.loc[1, 'count'] - \\\n",
    "                                data.loc[0, 'sum']/data.loc[0, 'count']\n",
    "        test_result, intend_to_treat_power = run_t_test_with_power(data.loc[0, 'count'], data.loc[1, 'count'],\n",
    "                        data.loc[0, 'sum'], data.loc[1, 'sum'], alpha)\n",
    "    \n",
    "        ghost_ad_treatment_effects += [ghost_ad_treatment_effect]\n",
    "        ghost_ad_powers += [ghost_ad_power]\n",
    "        intend_to_treat_treatment_effects += [intend_to_treat_treatment_effect]\n",
    "        intend_to_treat_powers += [intend_to_treat_power]\n",
    "    \n",
    "    ghost_ad_treatment_effect = np.mean(ghost_ad_treatment_effects)\n",
    "    ghost_ad_power = np.mean(ghost_ad_powers)\n",
    "    intend_to_treat_treatment_effect = np.mean(intend_to_treat_treatment_effects)\n",
    "    intend_to_treat_power = np.mean(intend_to_treat_powers)\n",
    "\n",
    "    return ghost_ad_treatment_effect, ghost_ad_power, intend_to_treat_treatment_effect, intend_to_treat_power\n",
    "    \n",
    "\n",
    "for N in Ns:\n",
    "    ghost_ad_treatment_effect, ghost_ad_power, intend_to_treat_treatment_effect, intend_to_treat_power \\\n",
    "    = run_simulations_for_n(N, SIMULATIONS)\n",
    "    \n",
    "    ghost_ad_effects += [ghost_ad_treatment_effect]\n",
    "    ghost_ad_conversion_effects += [ghost_ad_treatment_effect * p_is_buyer * N]\n",
    "    ghost_ad_powers += [ghost_ad_power]     \n",
    "    intend_to_treat_effects += [intend_to_treat_treatment_effect]\n",
    "    intend_to_treat_conversion_effects += [intend_to_treat_treatment_effect * N]\n",
    "    intend_to_treat_powers += [intend_to_treat_power]\n",
    "    \n",
    "    print(ghost_ad_power)\n",
    "    print(intend_to_treat_power)                        \n",
    "                        \n",
    "plt.plot(ghost_ad_powers, Ns)\n",
    "plt.plot(intend_to_treat_powers, Ns)\n",
    "plt.show()                        "
   ]
  },
  {
   "cell_type": "code",
   "execution_count": 10,
   "metadata": {},
   "outputs": [
    {
     "name": "stdout",
     "output_type": "stream",
     "text": [
      "0.6434846056637561\n",
      "0.577722142188165\n",
      "0.737791862389061\n",
      "0.6578133111065907\n",
      "0.7670956873026824\n",
      "0.6749409532116911\n",
      "0.7935311506642003\n",
      "0.7134459130540581\n",
      "0.8324274726947233\n",
      "0.7546633668179594\n",
      "0.8651914858387879\n",
      "0.8030390938053439\n",
      "0.8949776200793507\n",
      "0.8384321088791273\n"
     ]
    },
    {
     "data": {
      "image/png": "[encoded data removed]",
      "text/plain": [
       "<Figure size 432x288 with 1 Axes>"
      ]
     },
     "metadata": {
      "needs_background": "light"
     },
     "output_type": "display_data"
    }
   ],
   "source": [
    "SIMULATIONS = 400\n",
    "p_is_buyer = 0.05\n",
    "p_misclassified = 0.01\n",
    "alpha = 0.05\n",
    "\n",
    "Ns = [10000, 12000, 14000, 16000, 18000, 20000, 22000]\n",
    "\n",
    "# SIMULATIONS = 400\n",
    "# p_is_buyer = 0.05\n",
    "# p_misclassified = 0.01\n",
    "# alpha = 0.05\n",
    "\n",
    "# Ns = [10000, 12000, 14000, 16000, 18000, 20000, 22000]\n",
    "\n",
    "\n",
    "ghost_ad_effects = []\n",
    "ghost_ad_conversion_effects = []\n",
    "ghost_ad_powers = []\n",
    "\n",
    "intend_to_treat_effects = []\n",
    "intend_to_treat_conversion_effects = []\n",
    "intend_to_treat_powers = []\n",
    "\n",
    "def run_simulations_for_n(N, SIMULATIONS):\n",
    "    \n",
    "    ghost_ad_treatment_effects = []\n",
    "    ghost_ad_powers = []\n",
    "    intend_to_treat_treatment_effects = []\n",
    "    intend_to_treat_powers = []\n",
    "    \n",
    "    for i in range(SIMULATIONS):\n",
    "        intend_to_treat_data, ghost_ad_data = create_data_all_data(n=N, p_is_buyer=p_is_buyer, \n",
    "                                                          p_misclassified=p_misclassified)\n",
    "        data = ghost_ad_data\n",
    "        ghost_ad_treatment_effect = data.loc[1, 'sum']/data.loc[1, 'count'] - \\\n",
    "                                data.loc[0, 'sum']/data.loc[0, 'count']\n",
    "        test_result, ghost_ad_power = run_t_test_with_power(data.loc[0, 'count'], data.loc[1, 'count'],\n",
    "                        data.loc[0, 'sum'], data.loc[1, 'sum'], alpha)\n",
    "\n",
    "        data = intend_to_treat_data\n",
    "        intend_to_treat_treatment_effect = data.loc[1, 'sum']/data.loc[1, 'count'] - \\\n",
    "                                data.loc[0, 'sum']/data.loc[0, 'count']\n",
    "        test_result, intend_to_treat_power = run_t_test_with_power(data.loc[0, 'count'], data.loc[1, 'count'],\n",
    "                        data.loc[0, 'sum'], data.loc[1, 'sum'], alpha)\n",
    "    \n",
    "        ghost_ad_treatment_effects += [ghost_ad_treatment_effect]\n",
    "        ghost_ad_powers += [ghost_ad_power]\n",
    "        intend_to_treat_treatment_effects += [intend_to_treat_treatment_effect]\n",
    "        intend_to_treat_powers += [intend_to_treat_power]\n",
    "    \n",
    "    ghost_ad_treatment_effect = np.mean(ghost_ad_treatment_effects)\n",
    "    ghost_ad_power = np.mean(ghost_ad_powers)\n",
    "    intend_to_treat_treatment_effect = np.mean(intend_to_treat_treatment_effects)\n",
    "    intend_to_treat_power = np.mean(intend_to_treat_powers)\n",
    "\n",
    "    return ghost_ad_treatment_effect, ghost_ad_power, intend_to_treat_treatment_effect, intend_to_treat_power\n",
    "    \n",
    "\n",
    "for N in Ns:\n",
    "    ghost_ad_treatment_effect, ghost_ad_power, intend_to_treat_treatment_effect, intend_to_treat_power \\\n",
    "    = run_simulations_for_n(N, SIMULATIONS)\n",
    "    \n",
    "    ghost_ad_effects += [ghost_ad_treatment_effect]\n",
    "    ghost_ad_conversion_effects += [ghost_ad_treatment_effect * p_is_buyer * N]\n",
    "    ghost_ad_powers += [ghost_ad_power]     \n",
    "    intend_to_treat_effects += [intend_to_treat_treatment_effect]\n",
    "    intend_to_treat_conversion_effects += [intend_to_treat_treatment_effect * N]\n",
    "    intend_to_treat_powers += [intend_to_treat_power]\n",
    "    \n",
    "    print(ghost_ad_power)\n",
    "    print(intend_to_treat_power)                        \n",
    "                        \n",
    "plt.plot(ghost_ad_powers, Ns)\n",
    "plt.plot(intend_to_treat_powers, Ns)\n",
    "plt.show()                        "
   ]
  }
 ],
 "metadata": {
  "kernelspec": {
   "display_name": "ghost_ads",
   "language": "python",
   "name": "ghost_ads"
  },
  "language_info": {
   "codemirror_mode": {
    "name": "ipython",
    "version": 3
   },
   "file_extension": ".py",
   "mimetype": "text/x-python",
   "name": "python",
   "nbconvert_exporter": "python",
   "pygments_lexer": "ipython3",
   "version": "3.6.7"
  }
 },
 "nbformat": 4,
 "nbformat_minor": 2
}
