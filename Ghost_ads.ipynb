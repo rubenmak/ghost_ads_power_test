{
 "cells": [
  {
   "cell_type": "markdown",
   "metadata": {},
   "source": [
    "# Ghost Ads\n",
    "In this exercise we are going to study the difference between the two methods of Random Controlled Trials on advertising effectiveness: \n",
    "Please read this first: https://www.thinkwithgoogle.com/intl/en-gb/marketing-resources/data-measurement/a-revolution-in-measuring-ad-effectiveness/\n",
    "\n",
    "More specifically, we will study whether the claim about the 'ghost ad' method having a much higher power than the 'intend to treat' method, as said by Lewis in this video: https://www.youtube.com/watch?v=_do6ACKKlnw\n",
    "He claims this is especially true when only targeting a small subgroup of the total population."
   ]
  },
  {
   "cell_type": "markdown",
   "metadata": {},
   "source": [
    "### Don't forget to select your venv interpreter!\n",
    "Install all the packages in the first cell"
   ]
  },
  {
   "cell_type": "code",
   "execution_count": 1,
   "metadata": {},
   "outputs": [
    {
     "name": "stdout",
     "output_type": "stream",
     "text": [
      "Requirement already satisfied: numpy in /home/rubenmak/PycharmProjects/datasciencemaster___ghost_ads___shared/venv/ghost_ads/lib/python3.6/site-packages\n",
      "Requirement already satisfied: matplotlib in /home/rubenmak/PycharmProjects/datasciencemaster___ghost_ads___shared/venv/ghost_ads/lib/python3.6/site-packages\n",
      "Requirement already satisfied: kiwisolver>=1.0.1 in /home/rubenmak/PycharmProjects/datasciencemaster___ghost_ads___shared/venv/ghost_ads/lib/python3.6/site-packages (from matplotlib)\n",
      "Requirement already satisfied: pyparsing!=2.0.4,!=2.1.2,!=2.1.6,>=2.0.1 in /home/rubenmak/PycharmProjects/datasciencemaster___ghost_ads___shared/venv/ghost_ads/lib/python3.6/site-packages (from matplotlib)\n",
      "Requirement already satisfied: cycler>=0.10 in /home/rubenmak/PycharmProjects/datasciencemaster___ghost_ads___shared/venv/ghost_ads/lib/python3.6/site-packages (from matplotlib)\n",
      "Requirement already satisfied: python-dateutil>=2.1 in /home/rubenmak/PycharmProjects/datasciencemaster___ghost_ads___shared/venv/ghost_ads/lib/python3.6/site-packages (from matplotlib)\n",
      "Requirement already satisfied: numpy>=1.10.0 in /home/rubenmak/PycharmProjects/datasciencemaster___ghost_ads___shared/venv/ghost_ads/lib/python3.6/site-packages (from matplotlib)\n",
      "Requirement already satisfied: setuptools in /home/rubenmak/PycharmProjects/datasciencemaster___ghost_ads___shared/venv/ghost_ads/lib/python3.6/site-packages (from kiwisolver>=1.0.1->matplotlib)\n",
      "Requirement already satisfied: six in /home/rubenmak/PycharmProjects/datasciencemaster___ghost_ads___shared/venv/ghost_ads/lib/python3.6/site-packages (from cycler>=0.10->matplotlib)\n",
      "Requirement already satisfied: pandas in /home/rubenmak/PycharmProjects/datasciencemaster___ghost_ads___shared/venv/ghost_ads/lib/python3.6/site-packages\n",
      "Requirement already satisfied: python-dateutil>=2.5.0 in /home/rubenmak/PycharmProjects/datasciencemaster___ghost_ads___shared/venv/ghost_ads/lib/python3.6/site-packages (from pandas)\n",
      "Requirement already satisfied: pytz>=2011k in /home/rubenmak/PycharmProjects/datasciencemaster___ghost_ads___shared/venv/ghost_ads/lib/python3.6/site-packages (from pandas)\n",
      "Requirement already satisfied: numpy>=1.12.0 in /home/rubenmak/PycharmProjects/datasciencemaster___ghost_ads___shared/venv/ghost_ads/lib/python3.6/site-packages (from pandas)\n",
      "Requirement already satisfied: six>=1.5 in /home/rubenmak/PycharmProjects/datasciencemaster___ghost_ads___shared/venv/ghost_ads/lib/python3.6/site-packages (from python-dateutil>=2.5.0->pandas)\n",
      "Requirement already satisfied: scipy in /home/rubenmak/PycharmProjects/datasciencemaster___ghost_ads___shared/venv/ghost_ads/lib/python3.6/site-packages\n",
      "Requirement already satisfied: numpy>=1.8.2 in /home/rubenmak/PycharmProjects/datasciencemaster___ghost_ads___shared/venv/ghost_ads/lib/python3.6/site-packages (from scipy)\n"
     ]
    }
   ],
   "source": [
    "import sys\n",
    "!{sys.executable} -m pip install numpy\n",
    "!{sys.executable} -m pip install matplotlib\n",
    "!{sys.executable} -m pip install pandas\n",
    "!{sys.executable} -m pip install scipy"
   ]
  },
  {
   "cell_type": "code",
   "execution_count": 5,
   "metadata": {},
   "outputs": [],
   "source": [
    "from IPython.display import Latex, Image\n",
    "import numpy as np\n",
    "import pandas as pd\n",
    "import matplotlib.pyplot as plt\n",
    "from scipy.stats import bernoulli, norm, binom"
   ]
  },
  {
   "cell_type": "markdown",
   "metadata": {},
   "source": [
    "## Intend-to-treat vs Ghost ads\n",
    "The population has two types of people, interested and not-interested. In the Ghost ads example the interested people would be the 'striped T-shirt people' who are the only ones interested in the advertised product. Not-interested people have zero probability of buying your product, whether they were exposed to your ad or not. The interested people (striped T-shirts) have a probability of buying when not exposed to ads (take for example 0.2) and a sligthly higher probability when they are exposed to ads (take for example 0.3). Also, the bidding algorithm doesn't always correctly identify a interested person (as can be seen in the picture below), so add a probability of misclassification (for example 0.1).\n",
    "![True Population](GhostAds_1._Ideal_experiment_FINAL_v2.png)"
   ]
  },
  {
   "cell_type": "markdown",
   "metadata": {},
   "source": [
    "#### To summarize, these are the different possibilities for the people in the population\n",
    "\n",
    "|bucket|interested|classified (as interested)|test/control group|treated (advertised to)|probability of buying|intend-to-treat|ghost-ad|\n",
    "|---|---\t|---\t|---\t|---\t|---\t|---\t|\n",
    "|A|yes|yes|test|yes|0.3|    test|test|\n",
    "|B|yes|yes|control|no|0.2|   \tcontrol|control|\n",
    "|C|yes|no|test|no|0.2|   \ttest|not used|\n",
    "|D|yes|no|control|no|0.2|   \tcontrol|not used|\n",
    "|E|no|yes|test|yes|0.0|   \ttest|test|\n",
    "|F|no|yes|control|no|0.0|   \tcontrol|control|\n",
    "|G|no|no|test|no|0.0|   \ttest|not used|\n",
    "|H|no|no|control|no|0.0|   \tcontrol|not used|"
   ]
  },
  {
   "cell_type": "markdown",
   "metadata": {},
   "source": [
    "Now let's see the difference between intend-to-treat and the ghost ad metric, in what data is used to calculate effects. The reason why ghost-ad testing has greater power is that we can reduce 'noise' from our testing method by removing the user who are not treated in the test group, because they are not targeted by the algorithm, and removing user who would have not be advertised to in the control group. Ideally, we would always want to use the ghost-ad method for testing, however, in many cases it might technically not be possible to measure what users would and would not have received treatment in the control group. We therefore sometimes need to use intend-to-treat. The picture below illustrates the situation with intend-to-treat:\n",
    "![Intend to Treat](GhostAds_3._Intend_to_treat_FINAL_v2.png)"
   ]
  },
  {
   "cell_type": "markdown",
   "metadata": {},
   "source": [
    "### Creating the data\n",
    "We now can make the data generating function. We do not create individual user data and sample from the bernoulli distribution (which might be easier for illustration) but we sample for each of the eight scenario's (buckets) from the binomial distribution, to fasten up the later simulations. Therefore we need to create an array with the amount of people $n$ for bucket A to H and an array with purchase probability $p$ for buckets A to H.\n",
    "\n",
    "How many people fall into the different buckets depends om: how much of the population is interested in your product, how good your targeting algorithm is in identifyng these people (probability of misclassification) and how many of these people identifyed by your algorithm you actually advertise to. For example, if you run a 50/50 split A/B test, 50% of those people you advertise to and the others are in the control group."
   ]
  },
  {
   "cell_type": "code",
   "execution_count": 54,
   "metadata": {},
   "outputs": [],
   "source": [
    "def create_n_and_p(p_conversion_interested_treated = 0.3, \n",
    "                p_conversion_interested_not_treated = 0.2, \n",
    "                p_conversion_not_interested = 0,\n",
    "                p_is_interested = 0.5,\n",
    "                p_is_control_group = 0.5,\n",
    "                p_false_positive = 0.1, \n",
    "                p_false_negative = 0.1, \n",
    "                n = 1000):\n",
    "    n_A = np.round(p_is_interested*(1-p_false_positive)*(1-p_is_control_group)*n)    \n",
    "    n_B = np.round(p_is_interested*(1-p_false_positive)*p_is_control_group*n)   \n",
    "    n_C = np.round(p_is_interested*p_false_negative*p_is_control_group*n)\n",
    "    n_D = np.round(p_is_interested*p_false_negative*(1-p_is_control_group)*n)\n",
    "    n_E = np.round((1-p_is_interested)*p_false_positive*(1-p_is_control_group)*n)    \n",
    "    n_F = np.round((1-p_is_interested)*p_false_positive*p_is_control_group*n)   \n",
    "    n_G = np.round((1-p_is_interested)*(1-p_false_negative)*p_is_control_group*n)\n",
    "    n_H = np.round((1-p_is_interested)*(1-p_false_negative)*(1-p_is_control_group)*n)\n",
    "    n_buckets = [n_A, n_B, n_C, n_D, n_E, n_F, n_G, n_H]\n",
    "    n_buckets = np.array(n_buckets).astype(int)\n",
    "    p_A = p_conversion_interested_treated\n",
    "    p_B = p_C = p_D = p_conversion_interested_not_treated\n",
    "    p_E = p_F = p_G = p_H = p_conversion_not_interested\n",
    "    p_buckets = [p_A, p_B, p_C, p_D, p_E, p_F, p_G, p_H]\n",
    "    p_buckets = np.array(p_buckets)\n",
    "    return n_buckets, p_buckets\n",
    "    \n",
    "\n",
    "def create_data(n_buckets, p_buckets):\n",
    "    purchased = binom.rvs(n=n_buckets, p=p_buckets)\n",
    "    purchased = np.array(purchased)\n",
    "    intend_to_treat_data = {}\n",
    "    intend_to_treat_data['users_test'] = sum(n_buckets[[0,2,4,6]])\n",
    "    intend_to_treat_data['users_control'] = sum(n_buckets[[1,3,4,7]])\n",
    "    intend_to_treat_data['purchased_test'] = sum(purchased[[0,2,4,6]])\n",
    "    intend_to_treat_data['purchased_control'] = sum(purchased[[1,3,4,7]])\n",
    "    ghost_ad_data = {}\n",
    "    ghost_ad_data['users_test'] = sum(n_buckets[[0,4]])\n",
    "    ghost_ad_data['users_control'] = sum(n_buckets[[1,5]])\n",
    "    ghost_ad_data['purchased_test'] = sum(purchased[[0,4]])\n",
    "    ghost_ad_data['purchased_control'] = sum(purchased[[1,5]])\n",
    "    return intend_to_treat_data, ghost_ad_data"
   ]
  },
  {
   "cell_type": "code",
   "execution_count": 52,
   "metadata": {},
   "outputs": [
    {
     "name": "stdout",
     "output_type": "stream",
     "text": [
      "1000\n",
      "500\n",
      "500\n",
      "[0.3 0.2 0.2 0.2 0.  0.  0.  0. ]\n",
      "{'users_test': 500, 'users_comtrol': 500, 'purchased_test': 72, 'purchased_control': 49}\n",
      "{'users_test': 250, 'users_comtrol': 250, 'purchased_test': 65, 'purchased_control': 43}\n"
     ]
    }
   ],
   "source": [
    "n_buckets, p_buckets = create_n_and_p()\n",
    "intend_to_treat_data, ghost_ad_data = create_data(n_buckets, p_buckets)\n",
    "print(intend_to_treat_data)\n",
    "print(ghost_ad_data)"
   ]
  },
  {
   "cell_type": "markdown",
   "metadata": {},
   "source": [
    "## Create a function to perform the t-test"
   ]
  },
  {
   "cell_type": "code",
   "execution_count": 58,
   "metadata": {},
   "outputs": [],
   "source": [
    "def run_t_test(users_a, users_b, converted_a, converted_b, alpha):\n",
    "    p_a_hat = converted_a / users_a\n",
    "    p_b_hat = converted_b / users_b\n",
    "    var_p_a_hat = p_a_hat * (1-p_a_hat)\n",
    "    var_p_b_hat = p_b_hat * (1-p_b_hat)\n",
    "    diff = p_b_hat - p_a_hat\n",
    "    diff_std_rerror = np.power((var_p_a_hat/users_a + var_p_b_hat/users_b), 0.5)\n",
    "    t_stat = diff / diff_std_rerror\n",
    "    p_val = norm.cdf(t_stat)\n",
    "    sign_bound = norm.ppf(1-alpha/2) * diff_std_rerror\n",
    "    power = 1 - norm.cdf(sign_bound, loc=diff, scale=diff_std_rerror)\n",
    "    return p_val, power"
   ]
  },
  {
   "cell_type": "markdown",
   "metadata": {},
   "source": [
    "## Run the analysis\n",
    "Now you have everything ready to start analysis. Run simulations with different methods and calculate the power of both tests.\n",
    "* Try for different sample sizes $N$\n",
    "* Try for different size of 'interested' groups by changing p_is_interested\n",
    "* Try for different rates of misclassification p_false_positive and p_false_negative"
   ]
  },
  {
   "cell_type": "code",
   "execution_count": 85,
   "metadata": {},
   "outputs": [
    {
     "data": {
      "image/png": "[encoded data removed]",
      "text/plain": [
       "<Figure size 432x288 with 1 Axes>"
      ]
     },
     "metadata": {
      "needs_background": "light"
     },
     "output_type": "display_data"
    }
   ],
   "source": [
    "SIMULATIONS = 3000\n",
    "p_conversion_interested_treated = 0.3\n",
    "p_conversion_interested_not_treated = 0.2\n",
    "p_conversion_not_interested = 0\n",
    "p_is_interested = 0.01\n",
    "p_is_control_group = 0.5\n",
    "p_false_positive = p_false_negative = 0.1\n",
    "alpha = 0.05\n",
    "\n",
    "Ns = [i*5000 for i in range(10,50)]\n",
    "\n",
    "intend_to_treat_effects = []\n",
    "intend_to_treat_conversion_effects = []\n",
    "intend_to_treat_powers = []\n",
    "intend_to_treat_post_hoc_powers = []\n",
    "\n",
    "ghost_ad_effects = []\n",
    "ghost_ad_conversion_effects = []\n",
    "ghost_ad_powers = []\n",
    "ghost_ad_post_hoc_powers = []\n",
    "\n",
    "def run_simulations_for_n(N, SIMULATIONS):\n",
    "    \n",
    "    ghost_ad_treatment_effects = []\n",
    "    ghost_ad_pvalues = []\n",
    "    ghost_ad_powers = []\n",
    "    intend_to_treat_treatment_effects = []\n",
    "    intend_to_treat_pvalues = []\n",
    "    intend_to_treat_powers = []\n",
    "    \n",
    "    n_buckets, p_buckets = create_n_and_p(p_conversion_interested_treated = p_conversion_interested_treated, \n",
    "                p_conversion_interested_not_treated = p_conversion_interested_not_treated, \n",
    "                p_conversion_not_interested = p_conversion_not_interested,\n",
    "                p_is_interested = p_is_interested,\n",
    "                p_is_control_group = p_is_control_group,\n",
    "                p_false_positive = p_false_positive, \n",
    "                p_false_negative = p_false_negative, \n",
    "                n = N)\n",
    "    \n",
    "    for i in range(SIMULATIONS):\n",
    "        intend_to_treat_data, ghost_ad_data = create_data(n_buckets, p_buckets)\n",
    "        data = intend_to_treat_data\n",
    "        \n",
    "        intend_to_treat_treatment_effect = data['purchased_test'] / data['users_test'] - \\\n",
    "                                    data['purchased_test'] / data['users_control']\n",
    "        intend_to_treat_pvalue, intend_to_treat_power = run_t_test(data['users_control'], data['users_test'],\n",
    "                                      data['purchased_control'], data['purchased_test'], alpha)\n",
    "        data = ghost_ad_data\n",
    "        ghost_ad_treatment_effect = data['purchased_test'] / data['users_test'] - \\\n",
    "                                    data['purchased_test'] / data['users_control']\n",
    "        ghost_ad_pvalue, ghost_ad_power = run_t_test(data['users_control'], data['users_test'],\n",
    "                                      data['purchased_control'], data['purchased_test'], alpha)\n",
    "\n",
    "        intend_to_treat_treatment_effects += [intend_to_treat_pvalue]\n",
    "        intend_to_treat_pvalues += [intend_to_treat_pvalue]\n",
    "        intend_to_treat_powers += [intend_to_treat_power]\n",
    "        ghost_ad_treatment_effects += [ghost_ad_treatment_effect]\n",
    "        ghost_ad_pvalues += [ghost_ad_pvalue]\n",
    "        ghost_ad_powers += [ghost_ad_power]\n",
    "    \n",
    "    intend_to_treat_treatment_effect = np.mean(intend_to_treat_treatment_effects)\n",
    "    intend_to_treat_power = np.sum(np.array(intend_to_treat_pvalues) > (1-alpha/2)) / SIMULATIONS\n",
    "    intend_to_treat_post_hoc_power = np.mean(intend_to_treat_powers)\n",
    "    ghost_ad_treatment_effect = np.mean(np.array(ghost_ad_treatment_effects))\n",
    "    ghost_ad_power = np.sum(np.array(ghost_ad_pvalues) > (1-alpha/2)) / SIMULATIONS\n",
    "    ghost_ad_post_hoc_power = np.mean(ghost_ad_powers)\n",
    "\n",
    "    return (intend_to_treat_treatment_effect, \n",
    "            intend_to_treat_power,\n",
    "            intend_to_treat_post_hoc_power,\n",
    "            ghost_ad_treatment_effect, \n",
    "            ghost_ad_power,\n",
    "            ghost_ad_post_hoc_power)\n",
    "\n",
    "\n",
    "for N in Ns:\n",
    "    (intend_to_treat_treatment_effect, \n",
    "            intend_to_treat_power,\n",
    "            intend_to_treat_post_hoc_power,\n",
    "            ghost_ad_treatment_effect, \n",
    "            ghost_ad_power,\n",
    "            ghost_ad_post_hoc_power) = run_simulations_for_n(N, SIMULATIONS)\n",
    "    \n",
    "    ghost_ad_effects += [ghost_ad_treatment_effect]\n",
    "    ghost_ad_conversion_effects += [ghost_ad_treatment_effect * p_is_interested * N]\n",
    "    ghost_ad_powers += [ghost_ad_power]  \n",
    "    ghost_ad_post_hoc_powers += [ghost_ad_post_hoc_power]  \n",
    "    intend_to_treat_effects += [intend_to_treat_treatment_effect]\n",
    "    intend_to_treat_conversion_effects += [intend_to_treat_treatment_effect * N]\n",
    "    intend_to_treat_powers += [intend_to_treat_power]\n",
    "    intend_to_treat_post_hoc_powers += [intend_to_treat_post_hoc_power]\n",
    "    \n",
    "    #print(ghost_ad_power)\n",
    "    #print(intend_to_treat_power)                        \n",
    "                        \n",
    "plt.plot(ghost_ad_powers, Ns, label='ghost_ad_power')\n",
    "plt.plot(intend_to_treat_powers, Ns, label='intend_to_treat_power')\n",
    "plt.plot(ghost_ad_post_hoc_powers, Ns, label='ghost_ad_post_hoc_power')\n",
    "plt.plot(intend_to_treat_post_hoc_powers, Ns, label='intend_to_treat_post_hoc_power')\n",
    "plt.legend()\n",
    "plt.show()     "
   ]
  },
  {
   "cell_type": "markdown",
   "metadata": {},
   "source": [
    "### intuition behind why this is the case\n",
    "Why doesn't give the ghost ad method give a much higher power? One would expect that, because the variance of your estimators is going down, because of the reduced noise from observations that did in fact not get the treated and wouldn't have had the treatment. My intiution behind why this is the case is the following:\n",
    "\n",
    "The standard of the estimator in the unpaired unequal variances t-test is the following:\n",
    "\n",
    "$\\sqrt{\\sigma^2_{test}/n_{test} + \\sigma^2_{control}/n_{control}}$\n",
    "\n",
    "Now my intuition is that while $\\sigma_{test}$ and $\\sigma_{control}$ are getting bigger because of the noise that's introduced by including the untreated and would not be treated people, this is largely canceled out by the fact that $n_{test}$ and $n_{control}$ have also grown."
   ]
  },
  {
   "cell_type": "markdown",
   "metadata": {},
   "source": [
    "### considerations\n",
    "* Of course I'm over-simplyfing the simulation. In fact there might be a wide range of purchase probabilities and effects which could somehow make ghost ads more beneficial than intend-to-treat. However, I do think statistics should be quite robust in calculating average effects if the true underlying effect is varying. This would be interesting to dive into.\n",
    "* It might be that my assumptions in how to calculate the power and p-values is oversimplified, or that I'm making some assumptions I can't make. However, I do think these calculations are the calculations that are generally used.\n",
    "* In the case of a non-binary outcome (like revenue) things might also be different."
   ]
  }
 ],
 "metadata": {
  "kernelspec": {
   "display_name": "ghost_ads",
   "language": "python",
   "name": "ghost_ads"
  },
  "language_info": {
   "codemirror_mode": {
    "name": "ipython",
    "version": 3
   },
   "file_extension": ".py",
   "mimetype": "text/x-python",
   "name": "python",
   "nbconvert_exporter": "python",
   "pygments_lexer": "ipython3",
   "version": "3.6.7"
  }
 },
 "nbformat": 4,
 "nbformat_minor": 2
}
